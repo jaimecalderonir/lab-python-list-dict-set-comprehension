{
 "cells": [
  {
   "cell_type": "markdown",
   "id": "25d7736c-ba17-4aff-b6bb-66eba20fbf4e",
   "metadata": {},
   "source": [
    "# Lab | List, Dict and Set Comprehension"
   ]
  },
  {
   "cell_type": "markdown",
   "id": "7dd3cbde-675a-4b81-92c3-f728846dbe06",
   "metadata": {},
   "source": [
    "## Exercise: Managing Customer Orders Optimized with Comprehension"
   ]
  },
  {
   "cell_type": "markdown",
   "id": "5d500160-2fb7-4777-b5e4-09d45ebaf328",
   "metadata": {},
   "source": [
    "In the previous exercise, you developed a program to manage customer orders and inventory. Now, let's take it a step further and incorporate comprehension into your code.\n",
    "\n",
    "Follow the steps below to complete the exercise:\n",
    "\n",
    "1. Review your code from the previous exercise and identify areas where you can apply comprehension to simplify and streamline your code. \n",
    "\n",
    "    - *Hint: Apply it to initialize inventory, updating the inventory and printing the updated inventory.*\n",
    "    \n",
    "    - For example, in initializing the inventory, we could have:\n",
    "    \n",
    "        ```python\n",
    "        def initialize_inventory(products):\n",
    "            inventory = {product: int(input(f\"Enter the quantity of {product}s available: \")) for product in products}\n",
    "            return inventory\n",
    "\n",
    "        ```\n",
    "<br>\n",
    "    \n",
    "    \n",
    "2. Modify the function get_customer_orders so it prompts the user to enter the number of customer orders and gathers the product names using a loop and user input. Use comprehension.\n",
    "\n",
    "3. Add a new function to calculate the total price of the customer order. For each product in customer_orders, prompt the user to enter the price of that product. Use comprehension to calculate the total price. Note: assume that the user can only have 1 unit of each product.\n",
    "\n",
    "4. Modify the update_inventory function to remove the product from the inventory if its quantity becomes zero after fulfilling the customer orders. Use comprehension to filter out the products with a quantity of zero from the inventory.\n",
    "\n",
    "5. Print the total price of the customer order.\n",
    "\n",
    "Your code should produce output similar to the following:\n",
    "\n",
    "```python\n",
    "Enter the quantity of t-shirts available:  5\n",
    "Enter the quantity of mugs available:  4\n",
    "Enter the quantity of hats available:  3\n",
    "Enter the quantity of books available:  2\n",
    "Enter the quantity of keychains available:  1\n",
    "Enter the number of customer orders:  2\n",
    "Enter the name of a product that a customer wants to order:  hat\n",
    "Enter the name of a product that a customer wants to order:  keychain\n",
    "\n",
    "Order Statistics:\n",
    "Total Products Ordered: 2\n",
    "Percentage of Unique Products Ordered: 40.0\n",
    "\n",
    "Updated Inventory:\n",
    "t-shirt: 5\n",
    "mug: 4\n",
    "hat: 2\n",
    "book: 2\n",
    "Enter the price of keychain:  5\n",
    "Enter the price of hat:  10\n",
    "Total Price: 15.0\n",
    "\n",
    "```\n"
   ]
  },
  {
   "cell_type": "code",
   "execution_count": 91,
   "id": "13602181",
   "metadata": {},
   "outputs": [
    {
     "name": "stdout",
     "output_type": "stream",
     "text": [
      "initial inventory:  {'t-shirt': 5, 'mug': 4, 'hat': 3, 'book': 2, 'keychain': 1}\n",
      "Total customer orders: 2\n",
      "Percentage: 40.0\n",
      "Customer orders:  {'keychain', 'mug'}\n",
      "Total price: 15\n",
      "t-shirt: 5\n",
      "mug: 4\n",
      "hat: 3\n",
      "book: 2\n",
      "keychain: 1\n",
      "None\n"
     ]
    },
    {
     "data": {
      "text/plain": [
       "('New inventory: ', {'t-shirt': 5, 'mug': 3, 'hat': 3, 'book': 2})"
      ]
     },
     "execution_count": 91,
     "metadata": {},
     "output_type": "execute_result"
    }
   ],
   "source": [
    "products = [\"t-shirt\", \"mug\", \"hat\", \"book\", \"keychain\"]\n",
    "inventory = {}\n",
    "def initialize_inventory(products):\n",
    "    inventory = {product: int(input(f\"how many {product}s: \" )) for product in products}\n",
    "    return inventory\n",
    "inventory = initialize_inventory(products)\n",
    "print(\"initial inventory: \", inventory)\n",
    "customer_orders = set()\n",
    "def calculate_customer_orders():    \n",
    "    quantity = int(input(\"How many products: \"))\n",
    "    for _ in range(quantity):\n",
    "        product = input(\"Enter product: \")\n",
    "        if product in products:\n",
    "            customer_orders.add(product)\n",
    "    return customer_orders   \n",
    "calculate_customer_orders()\n",
    "total_customer_orders = len(customer_orders)\n",
    "print(\"Total customer orders:\", total_customer_orders)\n",
    "percentage_customer_orders = (total_customer_orders / len(products)) * 100\n",
    "print(\"Percentage:\", percentage_customer_orders)\n",
    "def get_customer_orders():\n",
    "    total_orders = sum(int(input(f\"enter price of {i}: \")) for i in customer_orders)\n",
    "    print(\"Customer orders: \", customer_orders)\n",
    "    print(\"Total price:\", total_orders)\n",
    "get_customer_orders()\n",
    "def print_updated_inventory(inventory):\n",
    "    new_print = {print(f\"{product}: {quantity}\") for (product, quantity) in inventory.items()}\n",
    "print(print_updated_inventory(inventory))\n",
    "def updated_inventory(customer_orders,inventory):\n",
    "    new_inventory = {k:v-1 if k in customer_orders else v for k, v in inventory.items()}\n",
    "    filtered_inventory = {k: v for k, v in new_inventory.items() if v > 0}\n",
    "    return \"New inventory: \", filtered_inventory\n",
    "updated_inventory(customer_orders, inventory)\n",
    "\n",
    "\n"
   ]
  },
  {
   "cell_type": "code",
   "execution_count": 76,
   "id": "b65782b9",
   "metadata": {},
   "outputs": [],
   "source": [
    "customer_orders = set()\n",
    "customer_orders.add(input(\"Enter product: \"))\n",
    "while True:\n",
    "    New_product = input(\"Would you like to enter another product?: (Enter the product, write 'NO' to leave) \")\n",
    "    if New_product == \"No\":\n",
    "        break\n",
    "    customer_orders.add(New_product)"
   ]
  },
  {
   "cell_type": "code",
   "execution_count": 90,
   "id": "b38c4071",
   "metadata": {},
   "outputs": [
    {
     "name": "stdout",
     "output_type": "stream",
     "text": [
      "Inventory {'t-shirt': 5, 'mug': 4, 'hat': 3, 'book': 2, 'keychain': 1}\n"
     ]
    },
    {
     "ename": "KeyboardInterrupt",
     "evalue": "Interrupted by user",
     "output_type": "error",
     "traceback": [
      "\u001b[0;31m---------------------------------------------------------------------------\u001b[0m",
      "\u001b[0;31mKeyboardInterrupt\u001b[0m                         Traceback (most recent call last)",
      "Cell \u001b[0;32mIn[90], line 9\u001b[0m\n\u001b[1;32m      7\u001b[0m customer_orders\u001b[38;5;241m.\u001b[39madd(\u001b[38;5;28minput\u001b[39m(\u001b[38;5;124m\"\u001b[39m\u001b[38;5;124mEnter product: \u001b[39m\u001b[38;5;124m\"\u001b[39m))\n\u001b[1;32m      8\u001b[0m \u001b[38;5;28;01mwhile\u001b[39;00m \u001b[38;5;28;01mTrue\u001b[39;00m:\n\u001b[0;32m----> 9\u001b[0m     New_product \u001b[38;5;241m=\u001b[39m \u001b[38;5;28;43minput\u001b[39;49m\u001b[43m(\u001b[49m\u001b[38;5;124;43m\"\u001b[39;49m\u001b[38;5;124;43mWould you like to enter another product?: (Enter the product, write \u001b[39;49m\u001b[38;5;124;43m'\u001b[39;49m\u001b[38;5;124;43mNO\u001b[39;49m\u001b[38;5;124;43m'\u001b[39;49m\u001b[38;5;124;43m to leave) \u001b[39;49m\u001b[38;5;124;43m\"\u001b[39;49m\u001b[43m)\u001b[49m\n\u001b[1;32m     10\u001b[0m     \u001b[38;5;28;01mif\u001b[39;00m New_product \u001b[38;5;241m==\u001b[39m \u001b[38;5;124m\"\u001b[39m\u001b[38;5;124mNo\u001b[39m\u001b[38;5;124m\"\u001b[39m:\n\u001b[1;32m     11\u001b[0m         \u001b[38;5;28;01mbreak\u001b[39;00m\n",
      "File \u001b[0;32m~/Library/Python/3.8/lib/python/site-packages/ipykernel/kernelbase.py:1282\u001b[0m, in \u001b[0;36mKernel.raw_input\u001b[0;34m(self, prompt)\u001b[0m\n\u001b[1;32m   1280\u001b[0m     msg \u001b[38;5;241m=\u001b[39m \u001b[38;5;124m\"\u001b[39m\u001b[38;5;124mraw_input was called, but this frontend does not support input requests.\u001b[39m\u001b[38;5;124m\"\u001b[39m\n\u001b[1;32m   1281\u001b[0m     \u001b[38;5;28;01mraise\u001b[39;00m StdinNotImplementedError(msg)\n\u001b[0;32m-> 1282\u001b[0m \u001b[38;5;28;01mreturn\u001b[39;00m \u001b[38;5;28;43mself\u001b[39;49m\u001b[38;5;241;43m.\u001b[39;49m\u001b[43m_input_request\u001b[49m\u001b[43m(\u001b[49m\n\u001b[1;32m   1283\u001b[0m \u001b[43m    \u001b[49m\u001b[38;5;28;43mstr\u001b[39;49m\u001b[43m(\u001b[49m\u001b[43mprompt\u001b[49m\u001b[43m)\u001b[49m\u001b[43m,\u001b[49m\n\u001b[1;32m   1284\u001b[0m \u001b[43m    \u001b[49m\u001b[38;5;28;43mself\u001b[39;49m\u001b[38;5;241;43m.\u001b[39;49m\u001b[43m_parent_ident\u001b[49m\u001b[43m[\u001b[49m\u001b[38;5;124;43m\"\u001b[39;49m\u001b[38;5;124;43mshell\u001b[39;49m\u001b[38;5;124;43m\"\u001b[39;49m\u001b[43m]\u001b[49m\u001b[43m,\u001b[49m\n\u001b[1;32m   1285\u001b[0m \u001b[43m    \u001b[49m\u001b[38;5;28;43mself\u001b[39;49m\u001b[38;5;241;43m.\u001b[39;49m\u001b[43mget_parent\u001b[49m\u001b[43m(\u001b[49m\u001b[38;5;124;43m\"\u001b[39;49m\u001b[38;5;124;43mshell\u001b[39;49m\u001b[38;5;124;43m\"\u001b[39;49m\u001b[43m)\u001b[49m\u001b[43m,\u001b[49m\n\u001b[1;32m   1286\u001b[0m \u001b[43m    \u001b[49m\u001b[43mpassword\u001b[49m\u001b[38;5;241;43m=\u001b[39;49m\u001b[38;5;28;43;01mFalse\u001b[39;49;00m\u001b[43m,\u001b[49m\n\u001b[1;32m   1287\u001b[0m \u001b[43m\u001b[49m\u001b[43m)\u001b[49m\n",
      "File \u001b[0;32m~/Library/Python/3.8/lib/python/site-packages/ipykernel/kernelbase.py:1325\u001b[0m, in \u001b[0;36mKernel._input_request\u001b[0;34m(self, prompt, ident, parent, password)\u001b[0m\n\u001b[1;32m   1322\u001b[0m \u001b[38;5;28;01mexcept\u001b[39;00m \u001b[38;5;167;01mKeyboardInterrupt\u001b[39;00m:\n\u001b[1;32m   1323\u001b[0m     \u001b[38;5;66;03m# re-raise KeyboardInterrupt, to truncate traceback\u001b[39;00m\n\u001b[1;32m   1324\u001b[0m     msg \u001b[38;5;241m=\u001b[39m \u001b[38;5;124m\"\u001b[39m\u001b[38;5;124mInterrupted by user\u001b[39m\u001b[38;5;124m\"\u001b[39m\n\u001b[0;32m-> 1325\u001b[0m     \u001b[38;5;28;01mraise\u001b[39;00m \u001b[38;5;167;01mKeyboardInterrupt\u001b[39;00m(msg) \u001b[38;5;28;01mfrom\u001b[39;00m \u001b[38;5;28;01mNone\u001b[39;00m\n\u001b[1;32m   1326\u001b[0m \u001b[38;5;28;01mexcept\u001b[39;00m \u001b[38;5;167;01mException\u001b[39;00m:\n\u001b[1;32m   1327\u001b[0m     \u001b[38;5;28mself\u001b[39m\u001b[38;5;241m.\u001b[39mlog\u001b[38;5;241m.\u001b[39mwarning(\u001b[38;5;124m\"\u001b[39m\u001b[38;5;124mInvalid Message:\u001b[39m\u001b[38;5;124m\"\u001b[39m, exc_info\u001b[38;5;241m=\u001b[39m\u001b[38;5;28;01mTrue\u001b[39;00m)\n",
      "\u001b[0;31mKeyboardInterrupt\u001b[0m: Interrupted by user"
     ]
    }
   ],
   "source": [
    "products = [\"t-shirt\", \"mug\", \"hat\", \"book\", \"keychain\"]\n",
    "inventory = {}\n",
    "for product in products:\n",
    "    inventory[product] = int(input(f\"How many {product}s\"))\n",
    "print(\"Inventory\", inventory)\n",
    "customer_orders = set()\n",
    "customer_orders.add(input(\"Enter product: \"))\n",
    "while True:\n",
    "    New_product = input(\"Would you like to enter another product?: (Enter the product, write 'NO' to leave) \")\n",
    "    if New_product == \"No\":\n",
    "        break\n",
    "    customer_orders.add(New_product)\n",
    "print(\"Customer Orders: \", customer_orders)\n",
    "total_customer_orders = len(customer_orders)\n",
    "print(\"Total customer orders:\", total_customer_orders)\n",
    "percentage_customer_orders = (total_customer_orders / len(products)) * 100\n",
    "print(\"Percentage:\", percentage_customer_orders)\n",
    "def update_inventory(customer_orders, inventory):\n",
    "    for p in customer_orders:\n",
    "        if p in inventory.keys():\n",
    "            inventory[p]-=1\n",
    "        else: \n",
    "            print(f\"{product}s is not available\")\n",
    "    update_inventory = filter(inventory[p] > 0, inventory)\n",
    "    return inventory\n",
    "def print_updated_inventory(inventory):\n",
    "    new_print = {print(f\"{product}: {quantity}\") for (product, quantity) in inventory.items()}\n",
    "print(print_updated_inventory(inventory))\n",
    "update_inventory(customer_orders, inventory)\n",
    "def updated_inventory(customer_orders,inventory):\n",
    "    new_inventory = {k:v-1 if k in customer_orders else v for k, v in inventory.items()}\n",
    "    filtered_inventory = {k: v for k, v in new_inventory.items() if v > 0}\n",
    "    return filtered_inventory\n",
    "updated_inventory(customer_orders, inventory)\n",
    "print()\n"
   ]
  },
  {
   "cell_type": "code",
   "execution_count": 75,
   "id": "91ebf4ae",
   "metadata": {},
   "outputs": [
    {
     "ename": "AttributeError",
     "evalue": "'set' object has no attribute 'items'",
     "output_type": "error",
     "traceback": [
      "\u001b[0;31m---------------------------------------------------------------------------\u001b[0m",
      "\u001b[0;31mAttributeError\u001b[0m                            Traceback (most recent call last)",
      "Cell \u001b[0;32mIn[75], line 1\u001b[0m\n\u001b[0;32m----> 1\u001b[0m \u001b[38;5;28;01mfor\u001b[39;00m product, price \u001b[38;5;129;01min\u001b[39;00m \u001b[43mcustomer_orders\u001b[49m\u001b[38;5;241;43m.\u001b[39;49m\u001b[43mitems\u001b[49m():\n\u001b[1;32m      2\u001b[0m         \u001b[38;5;28mprint\u001b[39m(\u001b[38;5;124mf\u001b[39m\u001b[38;5;124m\"\u001b[39m\u001b[38;5;132;01m{\u001b[39;00mproduct\u001b[38;5;132;01m}\u001b[39;00m\u001b[38;5;124m: \u001b[39m\u001b[38;5;132;01m{\u001b[39;00mprice\u001b[38;5;132;01m}\u001b[39;00m\u001b[38;5;124m\"\u001b[39m)\n",
      "\u001b[0;31mAttributeError\u001b[0m: 'set' object has no attribute 'items'"
     ]
    }
   ],
   "source": [
    "for product, price in customer_orders.items():\n",
    "        print(f\"{product}: {price}\")"
   ]
  },
  {
   "cell_type": "code",
   "execution_count": 3,
   "id": "9ed0c59a",
   "metadata": {},
   "outputs": [
    {
     "data": {
      "text/plain": [
       "{'t-shirt': 1, 'mug': 2, 'hat': 3, 'book': 4, 'keychain': 5}"
      ]
     },
     "execution_count": 3,
     "metadata": {},
     "output_type": "execute_result"
    }
   ],
   "source": [
    "products = [\"t-shirt\", \"mug\", \"hat\", \"book\", \"keychain\"]\n",
    "def initialize_inventory(products):\n",
    "    inventory = {}\n",
    "    for product in products:\n",
    "        quantity = int(input(f\"How many {product}s: \"))\n",
    "        inventory[product] = quantity\n",
    "    return inventory\n",
    "    \n",
    "initialize_inventory(products)"
   ]
  },
  {
   "cell_type": "code",
   "execution_count": null,
   "id": "b06b946f",
   "metadata": {},
   "outputs": [],
   "source": [
    "def initialize_inventory(products):\n",
    "    inventory = {product: int(input(f\"how many {product}s: \" )) for product in products}\n",
    "    return inventory\n",
    "\n",
    "initialize_inventory(products)"
   ]
  },
  {
   "cell_type": "code",
   "execution_count": null,
   "id": "4784f3e6",
   "metadata": {},
   "outputs": [],
   "source": [
    "def update_inventory(customer_orders, inventory):\n",
    "    for p in customer_orders:\n",
    "        if p in inventory.keys():\n",
    "            inventory[p]-=1\n",
    "        else: \n",
    "            print(f\"{product}s is not available\")\n",
    "    return inventory\n",
    "\n",
    "update_inventory(customer_orders, inventory)"
   ]
  },
  {
   "cell_type": "code",
   "execution_count": 89,
   "id": "9393068e",
   "metadata": {},
   "outputs": [
    {
     "ename": "TypeError",
     "evalue": "unhashable type: 'set'",
     "output_type": "error",
     "traceback": [
      "\u001b[0;31m---------------------------------------------------------------------------\u001b[0m",
      "\u001b[0;31mTypeError\u001b[0m                                 Traceback (most recent call last)",
      "Cell \u001b[0;32mIn[89], line 5\u001b[0m\n\u001b[1;32m      3\u001b[0m     \u001b[38;5;28;01mreturn\u001b[39;00m update_inventory\n\u001b[1;32m      4\u001b[0m update_inventory(customer_orders, inventory)\n\u001b[0;32m----> 5\u001b[0m inventory \u001b[38;5;241m=\u001b[39m {customer_orders}\n",
      "\u001b[0;31mTypeError\u001b[0m: unhashable type: 'set'"
     ]
    }
   ],
   "source": [
    "def update_inventory(customer_orders, inventory):\n",
    "    updatep_inventory = [inventory[p] -1 if p in inventory.keys() else print(f\"{p}s is not available\") for p in customer_orders]\n",
    "    return update_inventory\n",
    "update_inventory(customer_orders, inventory)\n",
    "inventory = {customer_orders}"
   ]
  },
  {
   "cell_type": "code",
   "execution_count": null,
   "id": "fd73a3d2",
   "metadata": {},
   "outputs": [],
   "source": [
    "def update_inventory(customer_orders, inventory):\n",
    "    for p in customer_orders:\n",
    "        if p in inventory.keys():\n",
    "            inventory[p]-=1\n",
    "        else: \n",
    "            print(f\"{product}s is not available\")\n",
    "    return inventory\n",
    "\n",
    "update_inventory(customer_orders, inventory)"
   ]
  },
  {
   "cell_type": "code",
   "execution_count": 78,
   "id": "946136ab",
   "metadata": {},
   "outputs": [
    {
     "name": "stdout",
     "output_type": "stream",
     "text": [
      "updated inventory: \n",
      "t-shirt: 5\n",
      "mug: 4\n",
      "hat: 3\n",
      "book: 2\n",
      "keychain: 1\n"
     ]
    }
   ],
   "source": [
    "quantity = inventory[product]\n",
    "def print_updated_inventory(inventory):\n",
    "    print(\"updated inventory: \")\n",
    "    for product, quantity in inventory.items():\n",
    "        print((f\"{product}: {quantity}\"))\n",
    "\n",
    "print_updated_inventory(inventory)"
   ]
  },
  {
   "cell_type": "code",
   "execution_count": 88,
   "id": "fd26b497",
   "metadata": {},
   "outputs": [
    {
     "name": "stdout",
     "output_type": "stream",
     "text": [
      "t-shirt: 5\n",
      "mug: 4\n",
      "hat: 3\n",
      "book: 2\n",
      "keychain: 1\n",
      "None\n"
     ]
    }
   ],
   "source": [
    "def print_updated_inventory(inventory):\n",
    "    new_print = {print(f\"{product}: {quantity}\") for (product, quantity) in inventory.items()}\n",
    "    \n",
    "print(print_updated_inventory(inventory))"
   ]
  },
  {
   "cell_type": "code",
   "execution_count": 77,
   "id": "cce274c3",
   "metadata": {},
   "outputs": [
    {
     "data": {
      "text/plain": [
       "set()"
      ]
     },
     "execution_count": 77,
     "metadata": {},
     "output_type": "execute_result"
    }
   ],
   "source": [
    "customer_orders = set()\n",
    "def get_customer_orders():\n",
    "    prices = []\n",
    "    for i in customer_orders:\n",
    "        price = int(input(f\"enter the price of {i}: \"))\n",
    "        prices.append(price)\n",
    "    return customer_orders\n",
    "get_customer_orders()\n",
    "        \n"
   ]
  },
  {
   "cell_type": "code",
   "execution_count": 16,
   "id": "2cc54fd5",
   "metadata": {},
   "outputs": [
    {
     "data": {
      "text/plain": [
       "{'t-shirt': 5, 'mug': 2, 'hat': 3, 'book': 2}"
      ]
     },
     "execution_count": 16,
     "metadata": {},
     "output_type": "execute_result"
    }
   ],
   "source": [
    "update_inventory(customer_orders, inventory)\n",
    "def updated_inventory(customer_orders,inventory):\n",
    "    new_inventory = {k:v-1 if k in customer_orders else v for k, v in inventory.items()}\n",
    "    filtered_inventory = {k: v for k, v in new_inventory.items() if v > 0}\n",
    "    return filtered_inventory\n",
    "updated_inventory(customer_orders, inventory)\n"
   ]
  },
  {
   "cell_type": "code",
   "execution_count": 82,
   "id": "497a6e84",
   "metadata": {},
   "outputs": [
    {
     "data": {
      "text/plain": [
       "{'keychain', 'mug'}"
      ]
     },
     "execution_count": 82,
     "metadata": {},
     "output_type": "execute_result"
    }
   ],
   "source": [
    "customer_orders = set()\n",
    "def calculate_customer_orders():    \n",
    "    quantity = int(input(\"How many products: \"))\n",
    "    for _ in range(quantity):\n",
    "        product = input(\"Enter product: \")\n",
    "        if product in products:\n",
    "            customer_orders.add(product)\n",
    "    return customer_orders   \n",
    "calculate_customer_orders()"
   ]
  },
  {
   "cell_type": "code",
   "execution_count": null,
   "id": "48a0c13a",
   "metadata": {},
   "outputs": [],
   "source": []
  }
 ],
 "metadata": {
  "kernelspec": {
   "display_name": "Python 3 (ipykernel)",
   "language": "python",
   "name": "python3"
  },
  "language_info": {
   "codemirror_mode": {
    "name": "ipython",
    "version": 3
   },
   "file_extension": ".py",
   "mimetype": "text/x-python",
   "name": "python",
   "nbconvert_exporter": "python",
   "pygments_lexer": "ipython3",
   "version": "3.8.2"
  }
 },
 "nbformat": 4,
 "nbformat_minor": 5
}
