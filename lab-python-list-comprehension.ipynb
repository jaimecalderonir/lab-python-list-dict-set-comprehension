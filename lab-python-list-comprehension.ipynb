{
 "cells": [
  {
   "cell_type": "markdown",
   "id": "25d7736c-ba17-4aff-b6bb-66eba20fbf4e",
   "metadata": {},
   "source": [
    "# Lab | List, Dict and Set Comprehension"
   ]
  },
  {
   "cell_type": "markdown",
   "id": "7dd3cbde-675a-4b81-92c3-f728846dbe06",
   "metadata": {},
   "source": [
    "## Exercise: Managing Customer Orders Optimized with Comprehension"
   ]
  },
  {
   "cell_type": "markdown",
   "id": "5d500160-2fb7-4777-b5e4-09d45ebaf328",
   "metadata": {},
   "source": [
    "In the previous exercise, you developed a program to manage customer orders and inventory. Now, let's take it a step further and incorporate comprehension into your code.\n",
    "\n",
    "Follow the steps below to complete the exercise:\n",
    "\n",
    "1. Review your code from the previous exercise and identify areas where you can apply comprehension to simplify and streamline your code. \n",
    "\n",
    "    - *Hint: Apply it to initialize inventory, updating the inventory and printing the updated inventory.*\n",
    "    \n",
    "    - For example, in initializing the inventory, we could have:\n",
    "    \n",
    "        ```python\n",
    "        def initialize_inventory(products):\n",
    "            inventory = {product: int(input(f\"Enter the quantity of {product}s available: \")) for product in products}\n",
    "            return inventory\n",
    "\n",
    "        ```\n",
    "<br>\n",
    "    \n",
    "    \n",
    "2. Modify the function get_customer_orders so it prompts the user to enter the number of customer orders and gathers the product names using a loop and user input. Use comprehension.\n",
    "\n",
    "3. Add a new function to calculate the total price of the customer order. For each product in customer_orders, prompt the user to enter the price of that product. Use comprehension to calculate the total price. Note: assume that the user can only have 1 unit of each product.\n",
    "\n",
    "4. Modify the update_inventory function to remove the product from the inventory if its quantity becomes zero after fulfilling the customer orders. Use comprehension to filter out the products with a quantity of zero from the inventory.\n",
    "\n",
    "5. Print the total price of the customer order.\n",
    "\n",
    "Your code should produce output similar to the following:\n",
    "\n",
    "```python\n",
    "Enter the quantity of t-shirts available:  5\n",
    "Enter the quantity of mugs available:  4\n",
    "Enter the quantity of hats available:  3\n",
    "Enter the quantity of books available:  2\n",
    "Enter the quantity of keychains available:  1\n",
    "Enter the number of customer orders:  2\n",
    "Enter the name of a product that a customer wants to order:  hat\n",
    "Enter the name of a product that a customer wants to order:  keychain\n",
    "\n",
    "Order Statistics:\n",
    "Total Products Ordered: 2\n",
    "Percentage of Unique Products Ordered: 40.0\n",
    "\n",
    "Updated Inventory:\n",
    "t-shirt: 5\n",
    "mug: 4\n",
    "hat: 2\n",
    "book: 2\n",
    "Enter the price of keychain:  5\n",
    "Enter the price of hat:  10\n",
    "Total Price: 15.0\n",
    "\n",
    "```\n"
   ]
  },
  {
   "cell_type": "code",
   "execution_count": 86,
   "id": "13602181",
   "metadata": {},
   "outputs": [
    {
     "name": "stdout",
     "output_type": "stream",
     "text": [
      "initial inventory:  {'t-shirt': 5, 'mug': 4, 'hat': 3, 'book': 2, 'keychain': 1}\n",
      "Total customer orders: 2\n",
      "Percentage: 40.0\n",
      "Customer orders:  {'keychain', 'mug'}\n",
      "Total price: 25\n"
     ]
    },
    {
     "data": {
      "text/plain": [
       "('New inventory: ', {'t-shirt': 5, 'mug': 3, 'hat': 3, 'book': 2})"
      ]
     },
     "execution_count": 86,
     "metadata": {},
     "output_type": "execute_result"
    }
   ],
   "source": [
    "products = [\"t-shirt\", \"mug\", \"hat\", \"book\", \"keychain\"]\n",
    "inventory = {}\n",
    "def initialize_inventory(products):\n",
    "    inventory = {product: int(input(f\"how many {product}s: \" )) for product in products}\n",
    "    return inventory\n",
    "inventory = initialize_inventory(products)\n",
    "print(\"initial inventory: \", inventory)\n",
    "customer_orders = set()\n",
    "def calculate_customer_orders():    \n",
    "    quantity = int(input(\"How many products: \"))\n",
    "    for _ in range(quantity):\n",
    "        product = input(\"Enter product: \")\n",
    "        if product in products:\n",
    "            customer_orders.add(product)\n",
    "    return customer_orders   \n",
    "calculate_customer_orders()\n",
    "total_customer_orders = len(customer_orders)\n",
    "print(\"Total customer orders:\", total_customer_orders)\n",
    "percentage_customer_orders = (total_customer_orders / len(products)) * 100\n",
    "print(\"Percentage:\", percentage_customer_orders)\n",
    "def get_customer_orders():\n",
    "    total_orders = sum(int(input(f\"enter price of {i}: \")) for i in customer_orders)\n",
    "    print(\"Customer orders: \", customer_orders)\n",
    "    print(\"Total price:\", total_orders)\n",
    "get_customer_orders()\n",
    "def updated_inventory(customer_orders,inventory):\n",
    "    new_inventory = {k:v-1 if k in customer_orders else v for k, v in inventory.items()}\n",
    "    filtered_inventory = {k: v for k, v in new_inventory.items() if v > 0}\n",
    "    return \"New inventory: \", filtered_inventory\n",
    "updated_inventory(customer_orders, inventory)\n",
    "\n",
    "\n"
   ]
  },
  {
   "cell_type": "code",
   "execution_count": 76,
   "id": "b65782b9",
   "metadata": {},
   "outputs": [],
   "source": [
    "customer_orders = set()\n",
    "customer_orders.add(input(\"Enter product: \"))\n",
    "while True:\n",
    "    New_product = input(\"Would you like to enter another product?: (Enter the product, write 'NO' to leave) \")\n",
    "    if New_product == \"No\":\n",
    "        break\n",
    "    customer_orders.add(New_product)"
   ]
  },
  {
   "cell_type": "code",
   "execution_count": 19,
   "id": "b38c4071",
   "metadata": {},
   "outputs": [
    {
     "name": "stdout",
     "output_type": "stream",
     "text": [
      "Inventory {'t-shirt': 5, 'mug': 4, 'hat': 3, 'book': 2, 'keychain': 1}\n",
      "Customer Orders:  {'keychain', 'mug'}\n",
      "Total customer orders: 2\n",
      "Percentage: 40.0\n"
     ]
    },
    {
     "data": {
      "text/plain": [
       "{'t-shirt': 5, 'mug': 2, 'hat': 3, 'book': 2}"
      ]
     },
     "execution_count": 19,
     "metadata": {},
     "output_type": "execute_result"
    }
   ],
   "source": [
    "products = [\"t-shirt\", \"mug\", \"hat\", \"book\", \"keychain\"]\n",
    "inventory = {}\n",
    "for product in products:\n",
    "    inventory[product] = int(input(f\"How many {product}s\"))\n",
    "print(\"Inventory\", inventory)\n",
    "customer_orders = set()\n",
    "customer_orders.add(input(\"Enter product: \"))\n",
    "while True:\n",
    "    New_product = input(\"Would you like to enter another product?: (Enter the product, write 'NO' to leave) \")\n",
    "    if New_product == \"No\":\n",
    "        break\n",
    "    customer_orders.add(New_product)\n",
    "print(\"Customer Orders: \", customer_orders)\n",
    "total_customer_orders = len(customer_orders)\n",
    "print(\"Total customer orders:\", total_customer_orders)\n",
    "percentage_customer_orders = (total_customer_orders / len(products)) * 100\n",
    "print(\"Percentage:\", percentage_customer_orders)\n",
    "def update_inventory(customer_orders, inventory):\n",
    "    for p in customer_orders:\n",
    "        if p in inventory.keys():\n",
    "            inventory[p]-=1\n",
    "        else: \n",
    "            print(f\"{product}s is not available\")\n",
    "    update_inventory = filter(inventory[p] > 0, inventory)\n",
    "    return inventory\n",
    "\n",
    "update_inventory(customer_orders, inventory)\n",
    "def updated_inventory(customer_orders,inventory):\n",
    "    new_inventory = {k:v-1 if k in customer_orders else v for k, v in inventory.items()}\n",
    "    filtered_inventory = {k: v for k, v in new_inventory.items() if v > 0}\n",
    "    return filtered_inventory\n",
    "updated_inventory(customer_orders, inventory)\n",
    "print()\n"
   ]
  },
  {
   "cell_type": "code",
   "execution_count": 75,
   "id": "91ebf4ae",
   "metadata": {},
   "outputs": [
    {
     "ename": "AttributeError",
     "evalue": "'set' object has no attribute 'items'",
     "output_type": "error",
     "traceback": [
      "\u001b[0;31m---------------------------------------------------------------------------\u001b[0m",
      "\u001b[0;31mAttributeError\u001b[0m                            Traceback (most recent call last)",
      "Cell \u001b[0;32mIn[75], line 1\u001b[0m\n\u001b[0;32m----> 1\u001b[0m \u001b[38;5;28;01mfor\u001b[39;00m product, price \u001b[38;5;129;01min\u001b[39;00m \u001b[43mcustomer_orders\u001b[49m\u001b[38;5;241;43m.\u001b[39;49m\u001b[43mitems\u001b[49m():\n\u001b[1;32m      2\u001b[0m         \u001b[38;5;28mprint\u001b[39m(\u001b[38;5;124mf\u001b[39m\u001b[38;5;124m\"\u001b[39m\u001b[38;5;132;01m{\u001b[39;00mproduct\u001b[38;5;132;01m}\u001b[39;00m\u001b[38;5;124m: \u001b[39m\u001b[38;5;132;01m{\u001b[39;00mprice\u001b[38;5;132;01m}\u001b[39;00m\u001b[38;5;124m\"\u001b[39m)\n",
      "\u001b[0;31mAttributeError\u001b[0m: 'set' object has no attribute 'items'"
     ]
    }
   ],
   "source": [
    "for product, price in customer_orders.items():\n",
    "        print(f\"{product}: {price}\")"
   ]
  },
  {
   "cell_type": "code",
   "execution_count": 3,
   "id": "9ed0c59a",
   "metadata": {},
   "outputs": [
    {
     "data": {
      "text/plain": [
       "{'t-shirt': 1, 'mug': 2, 'hat': 3, 'book': 4, 'keychain': 5}"
      ]
     },
     "execution_count": 3,
     "metadata": {},
     "output_type": "execute_result"
    }
   ],
   "source": [
    "products = [\"t-shirt\", \"mug\", \"hat\", \"book\", \"keychain\"]\n",
    "def initialize_inventory(products):\n",
    "    inventory = {}\n",
    "    for product in products:\n",
    "        quantity = int(input(f\"How many {product}s: \"))\n",
    "        inventory[product] = quantity\n",
    "    return inventory\n",
    "    \n",
    "initialize_inventory(products)"
   ]
  },
  {
   "cell_type": "code",
   "execution_count": null,
   "id": "b06b946f",
   "metadata": {},
   "outputs": [],
   "source": [
    "def initialize_inventory(products):\n",
    "    inventory = {product: int(input(f\"how many {product}s: \" )) for product in products}\n",
    "    return inventory\n",
    "\n",
    "initialize_inventory(products)"
   ]
  },
  {
   "cell_type": "code",
   "execution_count": null,
   "id": "4784f3e6",
   "metadata": {},
   "outputs": [],
   "source": [
    "def update_inventory(customer_orders, inventory):\n",
    "    for p in customer_orders:\n",
    "        if p in inventory.keys():\n",
    "            inventory[p]-=1\n",
    "        else: \n",
    "            print(f\"{product}s is not available\")\n",
    "    return inventory\n",
    "\n",
    "update_inventory(customer_orders, inventory)"
   ]
  },
  {
   "cell_type": "code",
   "execution_count": 18,
   "id": "9393068e",
   "metadata": {},
   "outputs": [
    {
     "name": "stdout",
     "output_type": "stream",
     "text": [
      "keychain s is not available\n"
     ]
    },
    {
     "data": {
      "text/plain": [
       "[None, 2]"
      ]
     },
     "execution_count": 18,
     "metadata": {},
     "output_type": "execute_result"
    }
   ],
   "source": [
    "def update_inventory(customer_orders, inventory):\n",
    "    update_inventory = [inventory[p] -1 if p in inventory.keys() else print(f\"{p}s is not available\") for p in customer_orders]\n",
    "    return update_inventory\n",
    "update_inventory(customer_orders, inventory)\n",
    "inventory = {customer_orders}"
   ]
  },
  {
   "cell_type": "code",
   "execution_count": null,
   "id": "fd73a3d2",
   "metadata": {},
   "outputs": [],
   "source": [
    "def update_inventory(customer_orders, inventory):\n",
    "    for p in customer_orders:\n",
    "        if p in inventory.keys():\n",
    "            inventory[p]-=1\n",
    "        else: \n",
    "            print(f\"{product}s is not available\")\n",
    "    return inventory\n",
    "\n",
    "update_inventory(customer_orders, inventory)"
   ]
  },
  {
   "cell_type": "code",
   "execution_count": 78,
   "id": "946136ab",
   "metadata": {},
   "outputs": [
    {
     "name": "stdout",
     "output_type": "stream",
     "text": [
      "updated inventory: \n",
      "t-shirt: 5\n",
      "mug: 4\n",
      "hat: 3\n",
      "book: 2\n",
      "keychain: 1\n"
     ]
    }
   ],
   "source": [
    "quantity = inventory[product]\n",
    "def print_updated_inventory(inventory):\n",
    "    print(\"updated inventory: \")\n",
    "    for product, quantity in inventory.items():\n",
    "        print((f\"{product}: {quantity}\"))\n",
    "\n",
    "print_updated_inventory(inventory)"
   ]
  },
  {
   "cell_type": "code",
   "execution_count": 15,
   "id": "fd26b497",
   "metadata": {},
   "outputs": [
    {
     "name": "stdout",
     "output_type": "stream",
     "text": [
      "t-shirt: 5\n",
      "mug: 3\n",
      "hat: 3\n",
      "book: 2\n",
      "keychain: 0\n",
      "None\n"
     ]
    }
   ],
   "source": [
    "def print_updated_inventory(inventory):\n",
    "    new_print = {print(f\"{product}: {quantity}\") for (product, quantity) in inventory.items()}\n",
    "    \n",
    "print(print_updated_inventory(inventory))"
   ]
  },
  {
   "cell_type": "code",
   "execution_count": 77,
   "id": "cce274c3",
   "metadata": {},
   "outputs": [
    {
     "data": {
      "text/plain": [
       "set()"
      ]
     },
     "execution_count": 77,
     "metadata": {},
     "output_type": "execute_result"
    }
   ],
   "source": [
    "customer_orders = set()\n",
    "def get_customer_orders():\n",
    "    prices = []\n",
    "    for i in customer_orders:\n",
    "        price = int(input(f\"enter the price of {i}: \"))\n",
    "        prices.append(price)\n",
    "    return customer_orders\n",
    "get_customer_orders()\n",
    "        \n"
   ]
  },
  {
   "cell_type": "code",
   "execution_count": 16,
   "id": "2cc54fd5",
   "metadata": {},
   "outputs": [
    {
     "data": {
      "text/plain": [
       "{'t-shirt': 5, 'mug': 2, 'hat': 3, 'book': 2}"
      ]
     },
     "execution_count": 16,
     "metadata": {},
     "output_type": "execute_result"
    }
   ],
   "source": [
    "update_inventory(customer_orders, inventory)\n",
    "def updated_inventory(customer_orders,inventory):\n",
    "    new_inventory = {k:v-1 if k in customer_orders else v for k, v in inventory.items()}\n",
    "    filtered_inventory = {k: v for k, v in new_inventory.items() if v > 0}\n",
    "    return filtered_inventory\n",
    "updated_inventory(customer_orders, inventory)\n"
   ]
  },
  {
   "cell_type": "code",
   "execution_count": 82,
   "id": "497a6e84",
   "metadata": {},
   "outputs": [
    {
     "data": {
      "text/plain": [
       "{'keychain', 'mug'}"
      ]
     },
     "execution_count": 82,
     "metadata": {},
     "output_type": "execute_result"
    }
   ],
   "source": [
    "customer_orders = set()\n",
    "def calculate_customer_orders():    \n",
    "    quantity = int(input(\"How many products: \"))\n",
    "    for _ in range(quantity):\n",
    "        product = input(\"Enter product: \")\n",
    "        if product in products:\n",
    "            customer_orders.add(product)\n",
    "    return customer_orders   \n",
    "calculate_customer_orders()"
   ]
  },
  {
   "cell_type": "code",
   "execution_count": null,
   "id": "48a0c13a",
   "metadata": {},
   "outputs": [],
   "source": []
  }
 ],
 "metadata": {
  "kernelspec": {
   "display_name": "Python 3 (ipykernel)",
   "language": "python",
   "name": "python3"
  },
  "language_info": {
   "codemirror_mode": {
    "name": "ipython",
    "version": 3
   },
   "file_extension": ".py",
   "mimetype": "text/x-python",
   "name": "python",
   "nbconvert_exporter": "python",
   "pygments_lexer": "ipython3",
   "version": "3.8.2"
  }
 },
 "nbformat": 4,
 "nbformat_minor": 5
}
